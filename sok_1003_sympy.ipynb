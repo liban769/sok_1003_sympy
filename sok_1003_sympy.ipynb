{
 "cells": [
  {
   "cell_type": "code",
   "execution_count": 3,
   "id": "1f98ace5-4834-46c1-8be0-db000207ff20",
   "metadata": {},
   "outputs": [],
   "source": [
    "import matplotlib.pyplot as plt\n",
    "import numpy as np\n",
    "import sympy as sp\n",
    "from sympy.solvers import solve"
   ]
  },
  {
   "cell_type": "code",
   "execution_count": 115,
   "id": "22a910ca-6f92-490e-a638-136a684ddcd9",
   "metadata": {},
   "outputs": [],
   "source": [
    "#oppgave 15 a)\n",
    "x,y,z=sp.symbols(\"x y z \")\n",
    "symbols=[x,y]\n",
    "equations=[\n",
    "    sp.Eq(2*x+4*y,6),\n",
    "    sp.Eq(-2*x+y,4),\n",
    "]"
   ]
  },
  {
   "cell_type": "code",
   "execution_count": 116,
   "id": "be22ddf2-0ecd-4165-b931-58a1501569d0",
   "metadata": {
    "tags": []
   },
   "outputs": [
    {
     "data": {
      "text/plain": [
       "{x: -1, y: 2}"
      ]
     },
     "execution_count": 116,
     "metadata": {},
     "output_type": "execute_result"
    }
   ],
   "source": [
    "solve(equations,symbols)"
   ]
  },
  {
   "cell_type": "code",
   "execution_count": 108,
   "id": "ba56d9cd-d6f6-4c3a-b71d-f60e98e80bb5",
   "metadata": {},
   "outputs": [],
   "source": [
    "#oppgave 15 b)\n",
    "x,y,z=sp.symbols(\"x y z \")\n",
    "symbols=[x,y]\n",
    "equations=[\n",
    "    sp.Eq(2*x-y,-1),\n",
    "    sp.Eq(x**2+x-y,1),\n",
    "]"
   ]
  },
  {
   "cell_type": "code",
   "execution_count": 109,
   "id": "c1ae1c3b-0b5b-4a7f-b0be-bdc7203291fe",
   "metadata": {},
   "outputs": [
    {
     "data": {
      "text/plain": [
       "[(-1, -1), (2, 5)]"
      ]
     },
     "execution_count": 109,
     "metadata": {},
     "output_type": "execute_result"
    }
   ],
   "source": [
    "solve(equations,symbols)"
   ]
  },
  {
   "cell_type": "code",
   "execution_count": 111,
   "id": "78575a09-d132-4c70-91eb-d6bae77168ad",
   "metadata": {},
   "outputs": [],
   "source": [
    "#oppgave 15 2)\n",
    "x,y,z=sp.symbols(\"x y z \")\n",
    "symbols=[x,y]\n",
    "equations=[\n",
    "    sp.Eq(3*x-12,-6*y),\n",
    "    sp.Eq(4*x-8*y,16),\n",
    "]"
   ]
  },
  {
   "cell_type": "code",
   "execution_count": 112,
   "id": "2f2fae98-272c-4762-9f9a-4c3679bda7b0",
   "metadata": {},
   "outputs": [
    {
     "data": {
      "text/plain": [
       "{x: 4, y: 0}"
      ]
     },
     "execution_count": 112,
     "metadata": {},
     "output_type": "execute_result"
    }
   ],
   "source": [
    "solve(equations,symbols)"
   ]
  },
  {
   "cell_type": "code",
   "execution_count": 4,
   "id": "294a266b-fa3e-4dcb-ac2e-4e524fbacd4e",
   "metadata": {},
   "outputs": [],
   "source": [
    "#oppgave 15 2)\n",
    "x,y,z=sp.symbols(\"x y z \")\n",
    "symbols=[x,y]\n",
    "equations=[\n",
    "    sp.Eq(x**2+4**x-3,-3*y),\n",
    "    sp.Eq(2*y,8-x),\n",
    "]"
   ]
  },
  {
   "cell_type": "code",
   "execution_count": 25,
   "id": "ed6811b3-0447-4a17-94dc-cd566d046e91",
   "metadata": {},
   "outputs": [
    {
     "data": {
      "text/plain": [
       "[(0, -5), (12, 1)]"
      ]
     },
     "execution_count": 25,
     "metadata": {},
     "output_type": "execute_result"
    }
   ],
   "source": [
    "solve(equations,symbols)"
   ]
  },
  {
   "cell_type": "code",
   "execution_count": 19,
   "id": "4c00cce6-ab9c-4310-a82d-49c652177512",
   "metadata": {},
   "outputs": [],
   "source": [
    "#oppgave 16 a)\n",
    "x,y,z=sp.symbols(\"x y z \")\n",
    "symbols=[x,y]\n",
    "equations=[\n",
    "    sp.Eq(4*x+2*y,12),\n",
    "    sp.Eq(6*x-2*y,8),\n",
    "]"
   ]
  },
  {
   "cell_type": "code",
   "execution_count": 20,
   "id": "73b819ca-7f4a-4201-8f0f-c271ba292cbc",
   "metadata": {
    "tags": []
   },
   "outputs": [
    {
     "data": {
      "text/plain": [
       "{x: 2, y: 2}"
      ]
     },
     "execution_count": 20,
     "metadata": {},
     "output_type": "execute_result"
    }
   ],
   "source": [
    "solve(equations,symbols)"
   ]
  },
  {
   "cell_type": "code",
   "execution_count": 23,
   "id": "31be7a46-153d-4b32-9d59-c339ad64bcaa",
   "metadata": {},
   "outputs": [],
   "source": [
    "#oppgave 16 b)\n",
    "x,y,z=sp.symbols(\"x y z \")\n",
    "symbols=[x,y]\n",
    "equations=[\n",
    "    sp.Eq(2*x+y**2,25),\n",
    "    sp.Eq(x-2*y,10),\n",
    "]"
   ]
  },
  {
   "cell_type": "code",
   "execution_count": 24,
   "id": "8edc7af0-67b1-41e1-bf8e-98b075da166b",
   "metadata": {},
   "outputs": [
    {
     "data": {
      "text/plain": [
       "[(0, -5), (12, 1)]"
      ]
     },
     "execution_count": 24,
     "metadata": {},
     "output_type": "execute_result"
    }
   ],
   "source": [
    "solve(equations,symbols)"
   ]
  },
  {
   "cell_type": "code",
   "execution_count": 17,
   "id": "a8c76c0d-36bb-494e-b761-48bad9db8786",
   "metadata": {},
   "outputs": [],
   "source": [
    "#oppgave 16 2)\n",
    "x,y,z=sp.symbols(\"x y z \")\n",
    "symbols=[x,y]\n",
    "equations=[\n",
    "    sp.Eq(4*x-4*y,8),\n",
    "    sp.Eq(9*x-5*y,26),\n",
    "]"
   ]
  },
  {
   "cell_type": "code",
   "execution_count": 18,
   "id": "f99e493d-46d2-4cac-a4b0-bfe29c86740a",
   "metadata": {},
   "outputs": [
    {
     "data": {
      "text/plain": [
       "{x: 4, y: 2}"
      ]
     },
     "execution_count": 18,
     "metadata": {},
     "output_type": "execute_result"
    }
   ],
   "source": [
    "solve(equations,symbols)"
   ]
  },
  {
   "cell_type": "code",
   "execution_count": 21,
   "id": "db020ccc-ffb9-4b1d-88f7-f8bd900e5a41",
   "metadata": {},
   "outputs": [],
   "source": [
    "#oppgave 16 2)\n",
    "x,y,z=sp.symbols(\"x y z \")\n",
    "symbols=[x,y]\n",
    "equations=[\n",
    "    sp.Eq(x+2*y**2,15),\n",
    "    sp.Eq(x**2-4*y**2,33),\n",
    "]"
   ]
  },
  {
   "cell_type": "code",
   "execution_count": 22,
   "id": "114ae4d8-ce9a-4f5a-8b6e-53495ceed8c3",
   "metadata": {},
   "outputs": [
    {
     "data": {
      "text/plain": [
       "[(-9, -2*sqrt(3)), (-9, 2*sqrt(3)), (7, -2), (7, 2)]"
      ]
     },
     "execution_count": 22,
     "metadata": {},
     "output_type": "execute_result"
    }
   ],
   "source": [
    "solve(equations,symbols)"
   ]
  },
  {
   "cell_type": "code",
   "execution_count": 98,
   "id": "4f37c714-f0da-4b91-89a8-9b8739186c0a",
   "metadata": {},
   "outputs": [],
   "source": [
    "#oppgave 17 a)\n",
    "x,y,z=sp.symbols(\"x y z \")\n",
    "symbols=[x,y]\n",
    "equations=[\n",
    "    sp.Eq(x*y**2-x,0),\n",
    "    sp.Eq(x+y**2,16),\n",
    "]"
   ]
  },
  {
   "cell_type": "code",
   "execution_count": 99,
   "id": "d047581d-d67a-4126-8c24-aa67d7f5f9e7",
   "metadata": {},
   "outputs": [
    {
     "data": {
      "text/plain": [
       "[(0, -4), (0, 4), (15, -1), (15, 1)]"
      ]
     },
     "execution_count": 99,
     "metadata": {},
     "output_type": "execute_result"
    }
   ],
   "source": [
    "solve(equations,symbols)"
   ]
  },
  {
   "cell_type": "code",
   "execution_count": 13,
   "id": "45a1a154-f01f-4d65-8041-fcaf7aec991f",
   "metadata": {},
   "outputs": [],
   "source": [
    "#oppgave 17 b)\n",
    "x,y,z=sp.symbols(\"x y z \")\n",
    "symbols=[x,y]\n",
    "equations=[\n",
    "    sp.Eq(x**2+y**2,100),\n",
    "    sp.Eq(x**2*y-36*y,0),\n",
    "]"
   ]
  },
  {
   "cell_type": "code",
   "execution_count": 14,
   "id": "0d732d7a-edfd-492f-8c83-6151f24ae448",
   "metadata": {},
   "outputs": [
    {
     "data": {
      "text/plain": [
       "[(-10, 0), (-6, -8), (-6, 8), (6, -8), (6, 8), (10, 0)]"
      ]
     },
     "execution_count": 14,
     "metadata": {},
     "output_type": "execute_result"
    }
   ],
   "source": [
    "solve(equations,symbols)"
   ]
  },
  {
   "cell_type": "code",
   "execution_count": 103,
   "id": "cd823228-619b-44b2-a9e7-75d3a2d06f1d",
   "metadata": {},
   "outputs": [],
   "source": [
    "#oppgave 17 2)\n",
    "x,y,z=sp.symbols(\"x y z \")\n",
    "symbols=[x,y]\n",
    "equations=[\n",
    "    sp.Eq(x*y**2-49*x,0),\n",
    "    sp.Eq(x**2+y**2,58),\n",
    "]"
   ]
  },
  {
   "cell_type": "code",
   "execution_count": 104,
   "id": "6eea7dec-fa54-4392-80bc-6c1425da860d",
   "metadata": {},
   "outputs": [
    {
     "data": {
      "text/plain": [
       "[(-3, -7), (-3, 7), (0, -sqrt(58)), (0, sqrt(58)), (3, -7), (3, 7)]"
      ]
     },
     "execution_count": 104,
     "metadata": {},
     "output_type": "execute_result"
    }
   ],
   "source": [
    "solve(equations,symbols)"
   ]
  },
  {
   "cell_type": "code",
   "execution_count": 105,
   "id": "f716d1ca-1ebd-42a1-940d-01ac0ada11c3",
   "metadata": {},
   "outputs": [],
   "source": [
    "#oppgave 17 2)\n",
    "x,y,z=sp.symbols(\"x y z \")\n",
    "symbols=[x,y]\n",
    "equations=[\n",
    "    sp.Eq(x**2-y**2,5/4),\n",
    "    sp.Eq(2*x*y+y,0),\n",
    "]"
   ]
  },
  {
   "cell_type": "code",
   "execution_count": 106,
   "id": "b77c875a-ff75-4556-bd2f-9a6b065ca3f4",
   "metadata": {},
   "outputs": [
    {
     "data": {
      "text/plain": [
       "[(-1.11803398874989, 0.0),\n",
       " (-0.500000000000000, -1.0*I),\n",
       " (-0.500000000000000, 1.0*I),\n",
       " (1.11803398874989, 0.0)]"
      ]
     },
     "execution_count": 106,
     "metadata": {},
     "output_type": "execute_result"
    }
   ],
   "source": [
    "solve(equations,symbols)"
   ]
  },
  {
   "cell_type": "code",
   "execution_count": null,
   "id": "e40b51db-7d69-4571-a7f1-993ad90a397a",
   "metadata": {},
   "outputs": [],
   "source": [
    "xy2 − 49x = 0\n",
    "\n",
    "x,y,z=sp.symbols(\"x y z \")\n",
    "symbols=[x,y]\n",
    "equations=[\n",
    "    sp.Eq(x**2-y**2,5/4),\n",
    "    sp.Eq(2*x*y+y,0),\n",
    "]"
   ]
  },
  {
   "cell_type": "code",
   "execution_count": null,
   "id": "e5a4620a-22e5-4313-9518-25e91f7cc3b3",
   "metadata": {},
   "outputs": [],
   "source": [
    "solve(equations,symbols)"
   ]
  },
  {
   "cell_type": "code",
   "execution_count": 2,
   "id": "08a8b278-9899-44b0-bfaa-1922c980dc49",
   "metadata": {},
   "outputs": [
    {
     "ename": "SyntaxError",
     "evalue": "cannot assign to function call (2745648352.py, line 1)",
     "output_type": "error",
     "traceback": [
      "\u001b[0;36m  Input \u001b[0;32mIn [2]\u001b[0;36m\u001b[0m\n\u001b[0;31m    f(x) = (x3 + 6x)5\u001b[0m\n\u001b[0m    ^\u001b[0m\n\u001b[0;31mSyntaxError\u001b[0m\u001b[0;31m:\u001b[0m cannot assign to function call\n"
     ]
    }
   ],
   "source": [
    "f(x) = (x3 + 6x)5\n"
   ]
  }
 ],
 "metadata": {
  "kernelspec": {
   "display_name": "Python 3 (ipykernel)",
   "language": "python",
   "name": "python3"
  },
  "language_info": {
   "codemirror_mode": {
    "name": "ipython",
    "version": 3
   },
   "file_extension": ".py",
   "mimetype": "text/x-python",
   "name": "python",
   "nbconvert_exporter": "python",
   "pygments_lexer": "ipython3",
   "version": "3.9.13"
  }
 },
 "nbformat": 4,
 "nbformat_minor": 5
}
